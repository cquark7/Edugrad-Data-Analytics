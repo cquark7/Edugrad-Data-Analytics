{
 "cells": [
  {
   "cell_type": "code",
   "execution_count": 1,
   "metadata": {},
   "outputs": [],
   "source": [
    "# import required packages\n",
    "import numpy as np\n",
    "from matplotlib import pyplot as plt"
   ]
  },
  {
   "cell_type": "code",
   "execution_count": 2,
   "metadata": {},
   "outputs": [
    {
     "name": "stdout",
     "output_type": "stream",
     "text": [
      "Array elements: [ 1  2  3  0  0  5 10]\n",
      "Array type: <class 'numpy.ndarray'>\n",
      "Array shape: (7,)\n"
     ]
    }
   ],
   "source": [
    "# Problem 1\n",
    "nums = [1, 2, 3, 0, 0, 5, 10]\n",
    "a = np.array(nums)\n",
    "print('Array elements:', a)\n",
    "print('Array type:', type(a))\n",
    "print('Array shape:', a.shape)"
   ]
  },
  {
   "cell_type": "code",
   "execution_count": 3,
   "metadata": {},
   "outputs": [
    {
     "name": "stdout",
     "output_type": "stream",
     "text": [
      "3x3 Matrix:\n",
      " [[ 2  3  4]\n",
      " [ 5  6  7]\n",
      " [ 8  9 10]]\n"
     ]
    }
   ],
   "source": [
    "# Problem 2\n",
    "a = np.arange(2, 11).reshape(3, 3)\n",
    "print('3x3 Matrix:\\n', a)"
   ]
  },
  {
   "cell_type": "code",
   "execution_count": 4,
   "metadata": {},
   "outputs": [
    {
     "name": "stdout",
     "output_type": "stream",
     "text": [
      "Reversed array using 1st method:\n",
      "[100, 1, 2, 3, 4, 5]\n",
      "Reversed array using 2nd method:\n",
      "[100, 1, 2, 3, 4, 5]\n"
     ]
    }
   ],
   "source": [
    "# Problem 3\n",
    "\n",
    "# Method 1:\n",
    "print('Reversed array using 1st method:')\n",
    "a = [5, 4, 3, 2, 1, 100]\n",
    "a_rev = a[::-1]\n",
    "print(a_rev)\n",
    "\n",
    "# Method 2\n",
    "print('Reversed array using 2nd method:')\n",
    "a = [5, 4, 3, 2, 1, 100]\n",
    "for i in range(len(a) // 2):\n",
    "    # in-place swaps\n",
    "    a[i], a[-i - 1] = a[-i - 1], a[i]\n",
    "print(a)"
   ]
  },
  {
   "cell_type": "code",
   "execution_count": 5,
   "metadata": {},
   "outputs": [
    {
     "name": "stdout",
     "output_type": "stream",
     "text": [
      "New array: [  1   2   3   0  76  69 100]\n"
     ]
    }
   ],
   "source": [
    "# Problem 4\n",
    "a = np.array([1, 2, 3, 0])\n",
    "vals = [76, 69, 100]\n",
    "print('New array:', np.append(a, vals))"
   ]
  },
  {
   "cell_type": "code",
   "execution_count": 6,
   "metadata": {},
   "outputs": [
    {
     "name": "stdout",
     "output_type": "stream",
     "text": [
      "Indices of non-zero elements: (array([0, 1, 4]),)\n"
     ]
    }
   ],
   "source": [
    "# Problem 5\n",
    "a = np.array([1, 2, 0, 0, 4, 0])\n",
    "inds = np.where(a != 0)\n",
    "print('Indices of non-zero elements:', inds)"
   ]
  },
  {
   "cell_type": "code",
   "execution_count": 7,
   "metadata": {},
   "outputs": [
    {
     "name": "stdout",
     "output_type": "stream",
     "text": [
      "[0. 0. 0. 0. 0. 0. 0. 0. 0. 0.]\n"
     ]
    }
   ],
   "source": [
    "# Problem 6\n",
    "null_vec = np.zeros(10)\n",
    "print(null_vec)"
   ]
  },
  {
   "cell_type": "code",
   "execution_count": 8,
   "metadata": {},
   "outputs": [
    {
     "name": "stdout",
     "output_type": "stream",
     "text": [
      "[0. 0. 0. 0. 1. 0. 0. 0. 0. 0.]\n"
     ]
    }
   ],
   "source": [
    "# Problem 7\n",
    "null_vec = np.zeros(10)\n",
    "null_vec[4] = 1\n",
    "print(null_vec)"
   ]
  },
  {
   "cell_type": "code",
   "execution_count": 9,
   "metadata": {},
   "outputs": [
    {
     "name": "stdout",
     "output_type": "stream",
     "text": [
      "Random vector of sorted values:\n",
      " [0.0381505  0.19666219 0.25180497 0.41697901 0.48377397 0.49549518\n",
      " 0.66327848 0.80192644 0.8101075  0.98751966]\n"
     ]
    }
   ],
   "source": [
    "# Problem 8\n",
    "rand_vec = np.random.random(10)\n",
    "rand_vec.sort()\n",
    "print('Random vector of sorted values:\\n', rand_vec)"
   ]
  },
  {
   "cell_type": "code",
   "execution_count": 10,
   "metadata": {},
   "outputs": [
    {
     "name": "stdout",
     "output_type": "stream",
     "text": [
      "Matrix:\n",
      " [[39 31 14 93 17 51 80 80]\n",
      " [21 76 58 27 41 19 95 55]\n",
      " [53 10 33 28 26 35 95 97]\n",
      " [45 91 41 96 94 35 50 72]\n",
      " [55  7 71 37  6  4  2  6]]\n",
      "Mean for each row:\n",
      " [[50.625]\n",
      " [49.   ]\n",
      " [47.125]\n",
      " [65.5  ]\n",
      " [23.5  ]]\n",
      "\n",
      "Required matrix:\n",
      "\n",
      "[[-11.625 -19.625 -36.625  42.375 -33.625   0.375  29.375  29.375]\n",
      " [-28.     27.      9.    -22.     -8.    -30.     46.      6.   ]\n",
      " [  5.875 -37.125 -14.125 -19.125 -21.125 -12.125  47.875  49.875]\n",
      " [-20.5    25.5   -24.5    30.5    28.5   -30.5   -15.5     6.5  ]\n",
      " [ 31.5   -16.5    47.5    13.5   -17.5   -19.5   -21.5   -17.5  ]]\n"
     ]
    }
   ],
   "source": [
    "# Problem 9\n",
    "matrix = np.random.randint(100, size=40).reshape(5, 8)\n",
    "print('Matrix:\\n', matrix)\n",
    "mean = matrix.mean(axis=1, keepdims=True)\n",
    "print('Mean for each row:\\n', mean)\n",
    "# Subtract mean from each row using broadcasting\n",
    "print('\\nRequired matrix:\\n')\n",
    "print(matrix - mean)"
   ]
  },
  {
   "cell_type": "code",
   "execution_count": 11,
   "metadata": {},
   "outputs": [
    {
     "name": "stdout",
     "output_type": "stream",
     "text": [
      "[0 6 4 5 4 2] [0 1 2 3 4 5 6]\n"
     ]
    },
    {
     "data": {
      "image/png": "[encoded data removed]",
      "text/plain": [
       "<Figure size 432x288 with 1 Axes>"
      ]
     },
     "metadata": {
      "needs_background": "light"
     },
     "output_type": "display_data"
    }
   ],
   "source": [
    "# Problem 10\n",
    "data = [1, 2, 1, 3, 4, 5, 1, 3, 4, 1, 2, 3, 5, 4, 1, 2, 3, 4, 1, 3, 2]\n",
    "bins = [0, 1, 2, 3, 4, 5, 6]\n",
    "heights, bins = np.histogram(data, bins=bins)\n",
    "print(heights, bins)\n",
    "\n",
    "# Visualize histogram using numpy\n",
    "plt.hist(data, bins=bins, color='g', lw=0.5, ec='c')\n",
    "plt.title(\"histogram\")\n",
    "plt.show()"
   ]
  },
  {
   "cell_type": "code",
   "execution_count": null,
   "metadata": {},
   "outputs": [],
   "source": []
  }
 ],
 "metadata": {
  "kernelspec": {
   "display_name": "Python 3",
   "language": "python",
   "name": "python3"
  },
  "language_info": {
   "codemirror_mode": {
    "name": "ipython",
    "version": 3
   },
   "file_extension": ".py",
   "mimetype": "text/x-python",
   "name": "python",
   "nbconvert_exporter": "python",
   "pygments_lexer": "ipython3",
   "version": "3.6.7"
  }
 },
 "nbformat": 4,
 "nbformat_minor": 2
}
