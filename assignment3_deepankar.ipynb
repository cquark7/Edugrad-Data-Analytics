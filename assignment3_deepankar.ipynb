{
 "cells": [
  {
   "cell_type": "code",
   "execution_count": 1,
   "metadata": {},
   "outputs": [],
   "source": [
    "class Node:\n",
    "    def __init__(self, data):\n",
    "        self.data = data\n",
    "        self.next = None"
   ]
  },
  {
   "cell_type": "code",
   "execution_count": 2,
   "metadata": {},
   "outputs": [],
   "source": [
    "class LinkedList:\n",
    "    \"\"\"\n",
    "    A singly linked list with both head and tail\n",
    "    \"\"\"\n",
    "    def __init__(self):\n",
    "        self.head = self.tail = None\n",
    "        self.size = 0\n",
    "\n",
    "    def __len__(self):\n",
    "        return self.size\n",
    "\n",
    "    def is_empty(self):\n",
    "        \"\"\"\n",
    "        Checks if the LinkedList is empty or not\n",
    "        :return: bool\n",
    "        \"\"\"\n",
    "        if self.head == self.tail is None:\n",
    "            return True\n",
    "        return False\n",
    "\n",
    "    def insert_at_end(self, data):\n",
    "        \"\"\"\n",
    "        Adds a new node at the end of the LinkedList\n",
    "        Time Complexity: O(1)\n",
    "        :param data: value you want to add at the end\n",
    "        :return: None\n",
    "        \"\"\"\n",
    "        if self.is_empty():\n",
    "            self.head = self.tail = Node(data)\n",
    "        else:\n",
    "            last_node = self.tail\n",
    "            last_node.next = Node(data)\n",
    "            self.tail = last_node.next\n",
    "        self.size += 1\n",
    "\n",
    "    def remove_from_beg(self):\n",
    "        \"\"\"\n",
    "        Removes node which is at the beginning of LinkedList\n",
    "        Time Complexity: O(1)\n",
    "        :return: self.head.data\n",
    "        \"\"\"\n",
    "        if self.is_empty():\n",
    "            raise Exception(\"Data Structure is empty\")\n",
    "        else:\n",
    "            head_node = self.head\n",
    "            self.head = head_node.next\n",
    "            # when the only node is removed\n",
    "            if self.head is None:\n",
    "                self.tail = None\n",
    "        self.size -= 1\n",
    "        return head_node.data\n",
    "\n",
    "    def traverse(self):\n",
    "        \"\"\"\n",
    "        Traverses the Nodes and prints values on STDOUT\n",
    "        Time Complexity: O(n)\n",
    "        :return: None\n",
    "        \"\"\"\n",
    "        if self.is_empty():\n",
    "            raise Exception(\"Data Structure is empty\")\n",
    "        cur_node = self.head\n",
    "        while cur_node:\n",
    "            print(cur_node.data, end=' ')\n",
    "            cur_node = cur_node.next\n",
    "        print()"
   ]
  },
  {
   "cell_type": "code",
   "execution_count": 3,
   "metadata": {},
   "outputs": [],
   "source": [
    "class Queue(LinkedList):\n",
    "    \"\"\"\n",
    "    Queue (FIFO) data structure implementation using singly LinkedList\n",
    "    \"\"\"\n",
    "    def enqueue(self, data):\n",
    "        return self.insert_at_end(data)\n",
    "\n",
    "    def dequeue(self):\n",
    "        return self.remove_from_beg()"
   ]
  },
  {
   "cell_type": "code",
   "execution_count": 4,
   "metadata": {},
   "outputs": [],
   "source": [
    "class Stack(Queue):\n",
    "    \"\"\"\n",
    "    Stack (LIFO) data structure implementation using a Queue\n",
    "    \"\"\"\n",
    "    def push(self, data):\n",
    "        return self.enqueue(data)\n",
    "\n",
    "    def pop(self):\n",
    "        for _ in range(self.size-1):\n",
    "            temp = self.dequeue()\n",
    "            self.enqueue(temp)\n",
    "        return self.dequeue()"
   ]
  },
  {
   "cell_type": "code",
   "execution_count": 5,
   "metadata": {},
   "outputs": [],
   "source": [
    "def bubble_sort(arr):\n",
    "    size = len(arr)\n",
    "    for i in range(size - 1):\n",
    "        swapped = False\n",
    "        for j in range(size - 1 - i):\n",
    "            if arr[j] > arr[j + 1]:\n",
    "                swapped = True\n",
    "                arr[j], arr[j + 1] = arr[j + 1], arr[j]\n",
    "        if not swapped:\n",
    "            break\n",
    "    return arr"
   ]
  },
  {
   "cell_type": "code",
   "execution_count": 6,
   "metadata": {},
   "outputs": [],
   "source": [
    "def selection_sort(arr):\n",
    "    size = len(arr)\n",
    "    for i in range(size-1):\n",
    "        min_idx = i\n",
    "        for j in range(i+1, size):\n",
    "            if arr[j] < arr[min_idx]:\n",
    "                min_idx = j\n",
    "        arr[min_idx], arr[i] = arr[i], arr[min_idx]\n",
    "    return arr"
   ]
  },
  {
   "cell_type": "code",
   "execution_count": 7,
   "metadata": {},
   "outputs": [],
   "source": [
    "# Note: Queue and Stack implementation use Inheritance to reduce redundancy and complexity"
   ]
  },
  {
   "cell_type": "code",
   "execution_count": 8,
   "metadata": {},
   "outputs": [
    {
     "name": "stdout",
     "output_type": "stream",
     "text": [
      "[40, 50, 60, 70, 80, 90]\n",
      "[40, 50, 60, 70, 80, 90]\n"
     ]
    }
   ],
   "source": [
    "list1 = [80,70,90,40,60,50]\n",
    "print(bubble_sort(list1.copy()))\n",
    "print(selection_sort(list1.copy()))"
   ]
  },
  {
   "cell_type": "code",
   "execution_count": null,
   "metadata": {},
   "outputs": [],
   "source": []
  }
 ],
 "metadata": {
  "kernelspec": {
   "display_name": "Python 3",
   "language": "python",
   "name": "python3"
  },
  "language_info": {
   "codemirror_mode": {
    "name": "ipython",
    "version": 3
   },
   "file_extension": ".py",
   "mimetype": "text/x-python",
   "name": "python",
   "nbconvert_exporter": "python",
   "pygments_lexer": "ipython3",
   "version": "3.6.7"
  }
 },
 "nbformat": 4,
 "nbformat_minor": 2
}
