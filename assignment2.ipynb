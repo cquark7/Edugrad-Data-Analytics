{
 "cells": [
  {
   "cell_type": "code",
   "execution_count": 1,
   "metadata": {},
   "outputs": [],
   "source": [
    "import os\n",
    "from csv import DictReader, DictWriter\n",
    "from collections import namedtuple\n",
    "from string import ascii_letters\n",
    "from shutil import copyfile"
   ]
  },
  {
   "cell_type": "code",
   "execution_count": 2,
   "metadata": {},
   "outputs": [],
   "source": [
    "def make_backup(file_path):\n",
    "    # listen buddy, always create a backup!\n",
    "    backup_path = file_path.rstrip('.csv') + '.bak'\n",
    "    # if last backup file exists, remove it\n",
    "    if os.path.isfile(backup_path):\n",
    "        os.remove(backup_path)\n",
    "    copyfile(file_path, backup_path)"
   ]
  },
  {
   "cell_type": "code",
   "execution_count": 3,
   "metadata": {},
   "outputs": [],
   "source": [
    "def modify(s):\n",
    "    \"\"\"\n",
    "    Uses new records CSV file to\n",
    "    - Append new full-time employees in employee CSV\n",
    "    - Creates a separate excel file for contractors\n",
    "    :param s: namedtuple('Spreadsheet', 'eFile nFile cFile eCols nCols')\n",
    "    :return: None\n",
    "    \"\"\"\n",
    "    with open(s.eFile, 'a') as f1, open(s.cFile, 'w') as f2, open(s.nFile) as f3:\n",
    "        writer_emp = DictWriter(f1, fieldnames=s.eCols)\n",
    "        writer_cnt = DictWriter(f2, fieldnames=s.eCols)\n",
    "        reader_new = DictReader(f3, fieldnames=s.nCols)\n",
    "        # csv files should contain headers but original files don't\n",
    "        for row in reader_new:\n",
    "            fn, *ln = row.pop('full name').split()\n",
    "            ln = ln[-1] if ln else ''\n",
    "            row['first name'], row['last name'] = fn, ln\n",
    "            code = row['employee code'].lstrip(ascii_letters)\n",
    "            if row['employee code'].startswith('emp'):\n",
    "                row['employee code'] = code\n",
    "                writer_emp.writerow(row)\n",
    "            else:\n",
    "                row['employee code'] = code\n",
    "                writer_cnt.writerow(row)"
   ]
  },
  {
   "cell_type": "code",
   "execution_count": 4,
   "metadata": {},
   "outputs": [],
   "source": [
    "def main():\n",
    "    print('Starting...')\n",
    "    e_file = r\"employee_list.csv\"\n",
    "    n_file = r\"new_records.csv\"\n",
    "    c_file = r\"contractors_list.xlsx\"\n",
    "    e_cols = \"employee code, first name, last name, home city, age, current city\".split(', ')\n",
    "    n_cols = \"employee code, full name, home city, age, current city\".split(', ')\n",
    "    Spreadsheet = namedtuple('Spreadsheet', 'eFile nFile cFile eCols nCols')\n",
    "    xyz_sheet = Spreadsheet(e_file, n_file, c_file, e_cols, n_cols)\n",
    "    # make sure files exist\n",
    "    for file in [e_file, n_file]:\n",
    "        if not os.path.isfile(file):\n",
    "            raise Exception(\"{} doesn't exist!\".format(file))\n",
    "    make_backup(xyz_sheet.eFile)\n",
    "    modify(xyz_sheet)\n",
    "    print('All operations successfully completed')"
   ]
  },
  {
   "cell_type": "code",
   "execution_count": 5,
   "metadata": {},
   "outputs": [
    {
     "name": "stdout",
     "output_type": "stream",
     "text": [
      "Starting...\n",
      "All operations successfully completed\n"
     ]
    }
   ],
   "source": [
    "if __name__ == '__main__':\n",
    "    main()\n"
   ]
  },
  {
   "cell_type": "code",
   "execution_count": 7,
   "metadata": {},
   "outputs": [],
   "source": [
    "# Ambiguous/vague statement:\n",
    "# 7)handle the file and number-type exceptions whereever appropriate"
   ]
  }
 ],
 "metadata": {
  "kernelspec": {
   "display_name": "Python 3",
   "language": "python",
   "name": "python3"
  },
  "language_info": {
   "codemirror_mode": {
    "name": "ipython",
    "version": 3
   },
   "file_extension": ".py",
   "mimetype": "text/x-python",
   "name": "python",
   "nbconvert_exporter": "python",
   "pygments_lexer": "ipython3",
   "version": "3.6.7"
  }
 },
 "nbformat": 4,
 "nbformat_minor": 2
}
