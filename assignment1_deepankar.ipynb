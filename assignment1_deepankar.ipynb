{
 "cells": [
  {
   "cell_type": "code",
   "execution_count": 14,
   "metadata": {},
   "outputs": [],
   "source": [
    "def sol1(n):\n",
    "    \"\"\"\n",
    "    Creates a dict of {i: i*i} for every i between 1 and n (both inclusive)\n",
    "    :param n: integer\n",
    "    :return: dict\n",
    "    \"\"\"\n",
    "    # To handle negative integers and 0\n",
    "    jumps = 1 if n > 0 else -1\n",
    "\n",
    "    d = {i: i*i for i in range(1, n+jumps, jumps)}\n",
    "    return d\n",
    "\n",
    "\n",
    "def sol2(s):\n",
    "    \"\"\"\n",
    "    Returns space-separated first name (uppercase) and last name (lowercase)\n",
    "    :param s: name string separated by comma\n",
    "    :return: string\n",
    "    \"\"\"\n",
    "    fn, ln = s.split(',')\n",
    "    return \"{} {}\".format(fn.upper(), ln.lower())\n",
    "\n",
    "\n",
    "def sol3(student):\n",
    "    \"\"\"\n",
    "    Checks if the age of a student is greater than 20 or not.\n",
    "    :param student: tuple -> (name, age, qualification, city)\n",
    "    :return: str\n",
    "    \"\"\"\n",
    "    age = student[1]\n",
    "    return \"You are qualified\" if age > 20 else \"You are not qualified\"\n",
    "\n",
    "\n",
    "def sol4(password):\n",
    "    \"\"\"\n",
    "    Checks input password is okay or not\n",
    "    :param password: string\n",
    "    :return: string\n",
    "    \"\"\"\n",
    "    if len(password) < 6:\n",
    "        return \"Password is too short\"\n",
    "    elif 6 <= len(password) <= 15:\n",
    "        return \"Password is okay\"\n",
    "    return \"Password is very long\"\n",
    "\n",
    "\n",
    "def sol5(n):\n",
    "    \"\"\"\n",
    "    Returns table of a given natural number\n",
    "    :param n: A natural number\n",
    "    :return: string\n",
    "    \"\"\"\n",
    "    table = []\n",
    "    for multiplier in range(1, 11):\n",
    "        table.append(\"{} x {} = {}\".format(n, multiplier, n*multiplier))\n",
    "    return '\\n'.join(table)"
   ]
  },
  {
   "cell_type": "code",
   "execution_count": 15,
   "metadata": {},
   "outputs": [
    {
     "name": "stdout",
     "output_type": "stream",
     "text": [
      "{1: 1, 2: 4, 3: 9, 4: 16, 5: 25, 6: 36, 7: 49, 8: 64, 9: 81, 10: 100, 11: 121}\n"
     ]
    }
   ],
   "source": [
    "# Problem 1 \n",
    "print(sol1(11))"
   ]
  },
  {
   "cell_type": "code",
   "execution_count": 16,
   "metadata": {},
   "outputs": [
    {
     "name": "stdout",
     "output_type": "stream",
     "text": [
      "DEEPANKAR sharma\n"
     ]
    }
   ],
   "source": [
    "# Problem 2\n",
    "print(sol2('deepankar,sharma'))"
   ]
  },
  {
   "cell_type": "code",
   "execution_count": 17,
   "metadata": {},
   "outputs": [
    {
     "name": "stdout",
     "output_type": "stream",
     "text": [
      "You are qualified\n",
      "You are not qualified\n"
     ]
    }
   ],
   "source": [
    "# Problem 3\n",
    "student1 = ('Deepankar', 21, 'B.Tech', 'Jaipur')\n",
    "student2 = ('Deepu', 19, 'B.Tech', 'Jaipur')\n",
    "print(sol3(student1))\n",
    "print(sol3(student2))"
   ]
  },
  {
   "cell_type": "code",
   "execution_count": 18,
   "metadata": {},
   "outputs": [
    {
     "name": "stdout",
     "output_type": "stream",
     "text": [
      "Password is okay\n",
      "Password is too short\n",
      "Password is very long\n"
     ]
    }
   ],
   "source": [
    "# Problem 4\n",
    "print(sol4(\"ABd1234@1\"))\n",
    "print(sol4(\"abc\"))\n",
    "print(sol4(\"MyPasswordIsVeryVeryVeryLong\"))"
   ]
  },
  {
   "cell_type": "code",
   "execution_count": 19,
   "metadata": {},
   "outputs": [
    {
     "name": "stdout",
     "output_type": "stream",
     "text": [
      "31 x 1 = 31\n",
      "31 x 2 = 62\n",
      "31 x 3 = 93\n",
      "31 x 4 = 124\n",
      "31 x 5 = 155\n",
      "31 x 6 = 186\n",
      "31 x 7 = 217\n",
      "31 x 8 = 248\n",
      "31 x 9 = 279\n",
      "31 x 10 = 310\n"
     ]
    }
   ],
   "source": [
    "# Problem 5\n",
    "print(sol5(31))"
   ]
  },
  {
   "cell_type": "code",
   "execution_count": null,
   "metadata": {},
   "outputs": [],
   "source": []
  }
 ],
 "metadata": {
  "kernelspec": {
   "display_name": "Python 3",
   "language": "python",
   "name": "python3"
  },
  "language_info": {
   "codemirror_mode": {
    "name": "ipython",
    "version": 3
   },
   "file_extension": ".py",
   "mimetype": "text/x-python",
   "name": "python",
   "nbconvert_exporter": "python",
   "pygments_lexer": "ipython3",
   "version": "3.6.7"
  }
 },
 "nbformat": 4,
 "nbformat_minor": 2
}
